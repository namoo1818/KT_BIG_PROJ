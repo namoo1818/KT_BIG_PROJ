{
 "cells": [
  {
   "cell_type": "code",
   "execution_count": 10,
   "metadata": {},
   "outputs": [],
   "source": [
    "import cv2\n",
    "import datetime\n",
    "import pandas as pd\n",
    "import numpy as np\n",
    "import dlib\n",
    "import os\n",
    "from matplotlib import pyplot as plt\n",
    "import skvideo.io\n",
    "import matplotlib as mpl\n",
    "import time"
   ]
  },
  {
   "cell_type": "code",
   "execution_count": 11,
   "metadata": {},
   "outputs": [],
   "source": [
    "def createFolder(directory):\n",
    "    try:\n",
    "        if not os.path.exists(directory):\n",
    "            os.makedirs(directory)\n",
    "    except OSError:\n",
    "        print ('Error: Creating directory. ' +  directory)"
   ]
  },
  {
   "cell_type": "code",
   "execution_count": 15,
   "metadata": {},
   "outputs": [],
   "source": [
    "# hyper_parameter\n",
    "sleep_time = 0.5 # 찍히는 시간\n",
    "hr = 300 # 가로\n",
    "vt = 300 # 세로\n",
    "delay_time = 2 # 각 운동 사이의 딜레이\n",
    "auto_stop = 1 # 자동종료 설정 (on은 1)"
   ]
  },
  {
   "cell_type": "code",
   "execution_count": 17,
   "metadata": {},
   "outputs": [
    {
     "name": "stdout",
     "output_type": "stream",
     "text": [
      "df_saved 0\n",
      "df_saved 1\n",
      "df_saved 2\n",
      "finish\n"
     ]
    }
   ],
   "source": [
    "detector = dlib.get_frontal_face_detector()\n",
    "predictor = dlib.shape_predictor(\"shape_predictor_68_face_landmarks.dat\")\n",
    "num = int(input('운동 횟수를 입력해주세요'))\n",
    "playtime = int(input('각 운동당 소요시간을 입력해주세요 (테스트용, 단위 sec)'))\n",
    "\n",
    "\n",
    "webcam = cv2.VideoCapture(0)\n",
    "\n",
    "if not webcam.isOpened():\n",
    "    print(\"Could not open webcam\")\n",
    "    exit()\n",
    "\n",
    "while webcam.isOpened():\n",
    "    status, frame = webcam.read()\n",
    "    if status:\n",
    "        cv2.imshow(\"test\", frame)\n",
    "\n",
    "    key = cv2.waitKey(1)\n",
    "    # if key & 0xFF == ord('q'):\n",
    "    #     break\n",
    "\n",
    "    if key & 0xFF == ord('s'):\n",
    "        for i2 in range(num):\n",
    "            time.sleep(delay_time)\n",
    "            count = 0\n",
    "            df_x = pd.DataFrame()\n",
    "            df_y = pd.DataFrame()\n",
    "            playtime1 = int(str(round(time.time()))[-4:])\n",
    "            playsum = playtime1 + playtime\n",
    "            while True:\n",
    "                status, frame = webcam.read()\n",
    "                playtime2 = int(str(round(time.time()))[-4:])\n",
    "                if playtime2 >= playsum:\n",
    "                    break\n",
    "                time.sleep(sleep_time)\n",
    "                ## resize할 비율 구하기\n",
    "                img = cv2.cvtColor(frame, cv2.COLOR_RGB2BGR)\n",
    "                r = hr / img.shape[1]\n",
    "                dim = (vt, int(img.shape[0] * r))\n",
    "\n",
    "                resized = cv2.resize(img, dim, interpolation = cv2.INTER_AREA)\n",
    "                \n",
    "                rects = detector(resized, 1)\n",
    "                for i, rect in enumerate(rects):\n",
    "                    ## 찾은 얼굴의 박스좌표\n",
    "                    l = rect.left()\n",
    "                    t = rect.top()\n",
    "                    b = rect.bottom()\n",
    "                    r = rect.right()\n",
    "                    ## facial landmark 찾기\n",
    "                    shape = predictor(resized, rect)\n",
    "                    ## facial landmark를 빨간색 점으로 찍어서 표현\n",
    "                    x_list = []\n",
    "                    y_list = []\n",
    "                    for j in range(68):\n",
    "                        x, y = shape.part(j).x, shape.part(j).y\n",
    "                        cv2.circle(resized, (x, y), 1, (0, 0, 255), -1)\n",
    "                        x_list.append(x)\n",
    "                        y_list.append(y)\n",
    "                        # cv2.rectangle(resized, (l, t), (r, b), (0, 255, 0), 2)\n",
    "                        # result = cv2.putText(resized, str(j), (x, y), cv2.FONT_HERSHEY_SCRIPT_SIMPLEX, 0.3, (0, 255, 0))\n",
    "                        ## 얼굴이 있는 부분을 박스쳐주기\n",
    "                    count += 1\n",
    "                    df_x['face' + str(count)] = x_list\n",
    "                    df_y['face' + str(count)] = y_list\n",
    "                    createFolder('test_' + str(i2))\n",
    "                    # file = 'test_' + str(i2) + '\\\\' + datetime.datetime.now().strftime(\"%Y%m%d_%H%M%S%f\") + '.jpg'\n",
    "                    # cv2.imwrite(file, result)\n",
    "                    df_x.to_csv('test_' + str(i2) + '\\\\test_dfx.csv')\n",
    "                    df_y.to_csv('test_' + str(i2) + '\\\\test_dfy.csv')\n",
    "                    # print(file, ' saved')\n",
    "            print('df_saved', str(i2))\n",
    "            del df_x\n",
    "            del df_y\n",
    "        print('finish')\n",
    "        if auto_stop == 1:\n",
    "            break\n",
    "    if key & 0xFF == ord('q'):\n",
    "        break\n",
    "\n",
    "webcam.release()\n",
    "cv2.destroyAllWindows()"
   ]
  },
  {
   "cell_type": "code",
   "execution_count": 5,
   "metadata": {},
   "outputs": [
    {
     "ename": "NameError",
     "evalue": "name 'df_x' is not defined",
     "output_type": "error",
     "traceback": [
      "\u001b[1;31m---------------------------------------------------------------------------\u001b[0m",
      "\u001b[1;31mNameError\u001b[0m                                 Traceback (most recent call last)",
      "\u001b[1;32me:\\aivle\\Big_project\\modeling\\KT_BIG_PROJ\\AI\\webcam_develop_df만.ipynb 셀 5\u001b[0m in \u001b[0;36m<cell line: 1>\u001b[1;34m()\u001b[0m\n\u001b[1;32m----> <a href='vscode-notebook-cell:/e%3A/aivle/Big_project/modeling/KT_BIG_PROJ/AI/webcam_develop_df%EB%A7%8C.ipynb#W5sZmlsZQ%3D%3D?line=0'>1</a>\u001b[0m df_x\n",
      "\u001b[1;31mNameError\u001b[0m: name 'df_x' is not defined"
     ]
    }
   ],
   "source": [
    "df_x"
   ]
  }
 ],
 "metadata": {
  "kernelspec": {
   "display_name": "Python 3.9.13 64-bit",
   "language": "python",
   "name": "python3"
  },
  "language_info": {
   "codemirror_mode": {
    "name": "ipython",
    "version": 3
   },
   "file_extension": ".py",
   "mimetype": "text/x-python",
   "name": "python",
   "nbconvert_exporter": "python",
   "pygments_lexer": "ipython3",
   "version": "3.9.13"
  },
  "orig_nbformat": 4,
  "vscode": {
   "interpreter": {
    "hash": "cf92aa13fedf815d5c8dd192b8d835913fde3e8bc926b2a0ad6cc74ef2ba3ca2"
   }
  }
 },
 "nbformat": 4,
 "nbformat_minor": 2
}
