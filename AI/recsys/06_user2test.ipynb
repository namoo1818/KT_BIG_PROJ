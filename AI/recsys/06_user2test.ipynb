{
 "cells": [
  {
   "cell_type": "code",
   "execution_count": 18,
   "id": "2e2e623f",
   "metadata": {},
   "outputs": [],
   "source": [
    "import numpy as np\n",
    "import pandas as pd\n",
    "\n",
    "# Preprocessing\n",
    "from sklearn.model_selection import train_test_split\n",
    "\n",
    "# Model\n",
    "from sklearn.tree import DecisionTreeClassifier"
   ]
  },
  {
   "cell_type": "code",
   "execution_count": 19,
   "id": "1feaa7c9",
   "metadata": {},
   "outputs": [],
   "source": [
    "import joblib, pickle\n",
    "\n",
    "model = joblib.load('recsys_dt.pkl')\n",
    "with open('df_columns', 'rb') as f:\n",
    "    columns = pickle.load(f)"
   ]
  },
  {
   "cell_type": "code",
   "execution_count": 32,
   "id": "dffe05a0",
   "metadata": {},
   "outputs": [
    {
     "data": {
      "text/html": [
       "<div>\n",
       "<style scoped>\n",
       "    .dataframe tbody tr th:only-of-type {\n",
       "        vertical-align: middle;\n",
       "    }\n",
       "\n",
       "    .dataframe tbody tr th {\n",
       "        vertical-align: top;\n",
       "    }\n",
       "\n",
       "    .dataframe thead th {\n",
       "        text-align: right;\n",
       "    }\n",
       "</style>\n",
       "<table border=\"1\" class=\"dataframe\">\n",
       "  <thead>\n",
       "    <tr style=\"text-align: right;\">\n",
       "      <th></th>\n",
       "      <th>상품명</th>\n",
       "      <th>url</th>\n",
       "    </tr>\n",
       "  </thead>\n",
       "  <tbody>\n",
       "    <tr>\n",
       "      <th>0</th>\n",
       "      <td>[스킨푸드][당근2종키트증정] 캐롯 카로틴 카밍 워터 패드 30매 135g_당근패드</td>\n",
       "      <td>https://shopping.naver.com/beauty/stores/10000...</td>\n",
       "    </tr>\n",
       "    <tr>\n",
       "      <th>1</th>\n",
       "      <td>[스킨푸드][당근2종키트증정] 캐롯 카로틴 카밍 워터 패드 60매_당근패드</td>\n",
       "      <td>https://shopping.naver.com/beauty/stores/10000...</td>\n",
       "    </tr>\n",
       "    <tr>\n",
       "      <th>2</th>\n",
       "      <td>[스킨푸드][미나리2종키트증정] 판토테닉 워터 파슬리 패드 30매 135g_미나리패드</td>\n",
       "      <td>https://shopping.naver.com/beauty/stores/10000...</td>\n",
       "    </tr>\n",
       "    <tr>\n",
       "      <th>3</th>\n",
       "      <td>[1+1]바버 멀티 비타민 앰플 (2mlx7병)- 바버공식수입사</td>\n",
       "      <td>https://shopping.naver.com/beauty/stores/10000...</td>\n",
       "    </tr>\n",
       "    <tr>\n",
       "      <th>4</th>\n",
       "      <td>데저트에센스 100% 냉압착 비정제 퓨어 호호바오일 118ml</td>\n",
       "      <td>https://shopping.naver.com/beauty/stores/10000...</td>\n",
       "    </tr>\n",
       "  </tbody>\n",
       "</table>\n",
       "</div>"
      ],
      "text/plain": [
       "                                               상품명  \\\n",
       "0   [스킨푸드][당근2종키트증정] 캐롯 카로틴 카밍 워터 패드 30매 135g_당근패드   \n",
       "1        [스킨푸드][당근2종키트증정] 캐롯 카로틴 카밍 워터 패드 60매_당근패드   \n",
       "2  [스킨푸드][미나리2종키트증정] 판토테닉 워터 파슬리 패드 30매 135g_미나리패드   \n",
       "3              [1+1]바버 멀티 비타민 앰플 (2mlx7병)- 바버공식수입사   \n",
       "4               데저트에센스 100% 냉압착 비정제 퓨어 호호바오일 118ml   \n",
       "\n",
       "                                                 url  \n",
       "0  https://shopping.naver.com/beauty/stores/10000...  \n",
       "1  https://shopping.naver.com/beauty/stores/10000...  \n",
       "2  https://shopping.naver.com/beauty/stores/10000...  \n",
       "3  https://shopping.naver.com/beauty/stores/10000...  \n",
       "4  https://shopping.naver.com/beauty/stores/10000...  "
      ]
     },
     "execution_count": 32,
     "metadata": {},
     "output_type": "execute_result"
    }
   ],
   "source": [
    "df_url = pd.read_csv(\"naver_url.csv\")\n",
    "df_url = df_url[['상품명', 'url']]\n",
    "df_url.head()"
   ]
  },
  {
   "cell_type": "code",
   "execution_count": 3,
   "id": "8f48a99f",
   "metadata": {},
   "outputs": [
    {
     "data": {
      "text/html": [
       "<div>\n",
       "<style scoped>\n",
       "    .dataframe tbody tr th:only-of-type {\n",
       "        vertical-align: middle;\n",
       "    }\n",
       "\n",
       "    .dataframe tbody tr th {\n",
       "        vertical-align: top;\n",
       "    }\n",
       "\n",
       "    .dataframe thead th {\n",
       "        text-align: right;\n",
       "    }\n",
       "</style>\n",
       "<table border=\"1\" class=\"dataframe\">\n",
       "  <thead>\n",
       "    <tr style=\"text-align: right;\">\n",
       "      <th></th>\n",
       "      <th>가격</th>\n",
       "      <th>사용시간</th>\n",
       "      <th>각질케어</th>\n",
       "      <th>노폐물제거</th>\n",
       "      <th>레포츠용</th>\n",
       "      <th>메이크업베이스겸용</th>\n",
       "      <th>모공케어</th>\n",
       "      <th>밀착력</th>\n",
       "      <th>부드러운발림</th>\n",
       "      <th>브라이트닝</th>\n",
       "      <th>...</th>\n",
       "      <th>스크럽형</th>\n",
       "      <th>시트형</th>\n",
       "      <th>압축/팩트형</th>\n",
       "      <th>액상형</th>\n",
       "      <th>오일형</th>\n",
       "      <th>젤형</th>\n",
       "      <th>캡슐/정</th>\n",
       "      <th>쿠션형</th>\n",
       "      <th>크림형</th>\n",
       "      <th>패치형</th>\n",
       "    </tr>\n",
       "  </thead>\n",
       "  <tbody>\n",
       "  </tbody>\n",
       "</table>\n",
       "<p>0 rows × 75 columns</p>\n",
       "</div>"
      ],
      "text/plain": [
       "Empty DataFrame\n",
       "Columns: [가격, 사용시간, 각질케어, 노폐물제거, 레포츠용, 메이크업베이스겸용, 모공케어, 밀착력, 부드러운발림, 브라이트닝, 블랙헤드케어, 상쾌함, 안티에이징, 알콜프리, 약산성, 어린이겸용, 영양공급, 오일프리, 유수분밸런스조절, 윤기부여, 저자극, 주름케어, 지속력, 초미세먼지세정, 촉촉함(수분공급), 쿨링감, 트러블케어, 피부강화, 피부결정돈, 피부보호, 피부유연, 피부진정, 피부탄력, 피부톤보정, 피부투명, 피지조절, 피지케어, 향, 화이트닝, 화이트헤드케어, 흡수력, 건성, 모든피부용, 민감성, 복합, 중건성, 지복합, 지성, T존, U존, 넥, 바디용, 스팟, 아이용, 코, 팔자주름, 페이스용, 핸드용, 가루형, 거품형, 로션형, 리필형, 무스형, 밤형, 버터형, 스크럽형, 시트형, 압축/팩트형, 액상형, 오일형, 젤형, 캡슐/정, 쿠션형, 크림형, 패치형]\n",
       "Index: []\n",
       "\n",
       "[0 rows x 75 columns]"
      ]
     },
     "execution_count": 3,
     "metadata": {},
     "output_type": "execute_result"
    }
   ],
   "source": [
    "# df 생성\n",
    "test_df = pd.DataFrame(columns=columns)\n",
    "test_df = test_df.iloc[:, 1:]\n",
    "test_df"
   ]
  },
  {
   "cell_type": "code",
   "execution_count": 4,
   "id": "57ee1e02",
   "metadata": {},
   "outputs": [
    {
     "data": {
      "text/html": [
       "<div>\n",
       "<style scoped>\n",
       "    .dataframe tbody tr th:only-of-type {\n",
       "        vertical-align: middle;\n",
       "    }\n",
       "\n",
       "    .dataframe tbody tr th {\n",
       "        vertical-align: top;\n",
       "    }\n",
       "\n",
       "    .dataframe thead th {\n",
       "        text-align: right;\n",
       "    }\n",
       "</style>\n",
       "<table border=\"1\" class=\"dataframe\">\n",
       "  <thead>\n",
       "    <tr style=\"text-align: right;\">\n",
       "      <th></th>\n",
       "      <th>가격</th>\n",
       "      <th>사용시간</th>\n",
       "      <th>각질케어</th>\n",
       "      <th>노폐물제거</th>\n",
       "      <th>레포츠용</th>\n",
       "      <th>메이크업베이스겸용</th>\n",
       "      <th>모공케어</th>\n",
       "      <th>밀착력</th>\n",
       "      <th>부드러운발림</th>\n",
       "      <th>브라이트닝</th>\n",
       "      <th>...</th>\n",
       "      <th>스크럽형</th>\n",
       "      <th>시트형</th>\n",
       "      <th>압축/팩트형</th>\n",
       "      <th>액상형</th>\n",
       "      <th>오일형</th>\n",
       "      <th>젤형</th>\n",
       "      <th>캡슐/정</th>\n",
       "      <th>쿠션형</th>\n",
       "      <th>크림형</th>\n",
       "      <th>패치형</th>\n",
       "    </tr>\n",
       "  </thead>\n",
       "  <tbody>\n",
       "    <tr>\n",
       "      <th>0</th>\n",
       "      <td>0</td>\n",
       "      <td>0</td>\n",
       "      <td>0</td>\n",
       "      <td>0</td>\n",
       "      <td>0</td>\n",
       "      <td>0</td>\n",
       "      <td>0</td>\n",
       "      <td>0</td>\n",
       "      <td>0</td>\n",
       "      <td>0</td>\n",
       "      <td>...</td>\n",
       "      <td>0</td>\n",
       "      <td>0</td>\n",
       "      <td>0</td>\n",
       "      <td>0</td>\n",
       "      <td>0</td>\n",
       "      <td>0</td>\n",
       "      <td>0</td>\n",
       "      <td>0</td>\n",
       "      <td>0</td>\n",
       "      <td>0</td>\n",
       "    </tr>\n",
       "  </tbody>\n",
       "</table>\n",
       "<p>1 rows × 75 columns</p>\n",
       "</div>"
      ],
      "text/plain": [
       "  가격 사용시간 각질케어 노폐물제거 레포츠용 메이크업베이스겸용 모공케어 밀착력 부드러운발림 브라이트닝  ... 스크럽형 시트형  \\\n",
       "0  0    0    0     0    0         0    0   0      0     0  ...    0   0   \n",
       "\n",
       "  압축/팩트형 액상형 오일형 젤형 캡슐/정 쿠션형 크림형 패치형  \n",
       "0      0   0   0  0    0   0   0   0  \n",
       "\n",
       "[1 rows x 75 columns]"
      ]
     },
     "execution_count": 4,
     "metadata": {},
     "output_type": "execute_result"
    }
   ],
   "source": [
    "test_df.loc[0, :] = [0] * (len(columns) - 1)\n",
    "test_df"
   ]
  },
  {
   "cell_type": "code",
   "execution_count": 8,
   "id": "2fdf833b",
   "metadata": {},
   "outputs": [],
   "source": [
    "# 유저 데이터\n",
    "user = ['노폐물제거', '모든피부용', '페이스용', '스크럽형']"
   ]
  },
  {
   "cell_type": "code",
   "execution_count": 9,
   "id": "3622df97",
   "metadata": {},
   "outputs": [
    {
     "data": {
      "text/plain": [
       "Index(['가격', '사용시간', '각질케어', '노폐물제거', '레포츠용', '메이크업베이스겸용', '모공케어', '밀착력',\n",
       "       '부드러운발림', '브라이트닝', '블랙헤드케어', '상쾌함', '안티에이징', '알콜프리', '약산성', '어린이겸용',\n",
       "       '영양공급', '오일프리', '유수분밸런스조절', '윤기부여', '저자극', '주름케어', '지속력', '초미세먼지세정',\n",
       "       '촉촉함(수분공급)', '쿨링감', '트러블케어', '피부강화', '피부결정돈', '피부보호', '피부유연', '피부진정',\n",
       "       '피부탄력', '피부톤보정', '피부투명', '피지조절', '피지케어', '향', '화이트닝', '화이트헤드케어', '흡수력',\n",
       "       '건성', '모든피부용', '민감성', '복합', '중건성', '지복합', '지성', 'T존', 'U존', '넥', '바디용',\n",
       "       '스팟', '아이용', '코', '팔자주름', '페이스용', '핸드용', '가루형', '거품형', '로션형', '리필형',\n",
       "       '무스형', '밤형', '버터형', '스크럽형', '시트형', '압축/팩트형', '액상형', '오일형', '젤형', '캡슐/정',\n",
       "       '쿠션형', '크림형', '패치형'],\n",
       "      dtype='object')"
      ]
     },
     "execution_count": 9,
     "metadata": {},
     "output_type": "execute_result"
    }
   ],
   "source": [
    "test_df.columns"
   ]
  },
  {
   "cell_type": "code",
   "execution_count": 11,
   "id": "d648628c",
   "metadata": {},
   "outputs": [
    {
     "data": {
      "text/html": [
       "<div>\n",
       "<style scoped>\n",
       "    .dataframe tbody tr th:only-of-type {\n",
       "        vertical-align: middle;\n",
       "    }\n",
       "\n",
       "    .dataframe tbody tr th {\n",
       "        vertical-align: top;\n",
       "    }\n",
       "\n",
       "    .dataframe thead th {\n",
       "        text-align: right;\n",
       "    }\n",
       "</style>\n",
       "<table border=\"1\" class=\"dataframe\">\n",
       "  <thead>\n",
       "    <tr style=\"text-align: right;\">\n",
       "      <th></th>\n",
       "      <th>가격</th>\n",
       "      <th>사용시간</th>\n",
       "      <th>각질케어</th>\n",
       "      <th>노폐물제거</th>\n",
       "      <th>레포츠용</th>\n",
       "      <th>메이크업베이스겸용</th>\n",
       "      <th>모공케어</th>\n",
       "      <th>밀착력</th>\n",
       "      <th>부드러운발림</th>\n",
       "      <th>브라이트닝</th>\n",
       "      <th>...</th>\n",
       "      <th>스크럽형</th>\n",
       "      <th>시트형</th>\n",
       "      <th>압축/팩트형</th>\n",
       "      <th>액상형</th>\n",
       "      <th>오일형</th>\n",
       "      <th>젤형</th>\n",
       "      <th>캡슐/정</th>\n",
       "      <th>쿠션형</th>\n",
       "      <th>크림형</th>\n",
       "      <th>패치형</th>\n",
       "    </tr>\n",
       "  </thead>\n",
       "  <tbody>\n",
       "    <tr>\n",
       "      <th>0</th>\n",
       "      <td>0</td>\n",
       "      <td>0</td>\n",
       "      <td>0</td>\n",
       "      <td>1</td>\n",
       "      <td>0</td>\n",
       "      <td>0</td>\n",
       "      <td>0</td>\n",
       "      <td>0</td>\n",
       "      <td>0</td>\n",
       "      <td>0</td>\n",
       "      <td>...</td>\n",
       "      <td>1</td>\n",
       "      <td>0</td>\n",
       "      <td>0</td>\n",
       "      <td>0</td>\n",
       "      <td>0</td>\n",
       "      <td>0</td>\n",
       "      <td>0</td>\n",
       "      <td>0</td>\n",
       "      <td>0</td>\n",
       "      <td>0</td>\n",
       "    </tr>\n",
       "  </tbody>\n",
       "</table>\n",
       "<p>1 rows × 75 columns</p>\n",
       "</div>"
      ],
      "text/plain": [
       "  가격 사용시간 각질케어 노폐물제거 레포츠용 메이크업베이스겸용 모공케어 밀착력 부드러운발림 브라이트닝  ... 스크럽형 시트형  \\\n",
       "0  0    0    0     1    0         0    0   0      0     0  ...    1   0   \n",
       "\n",
       "  압축/팩트형 액상형 오일형 젤형 캡슐/정 쿠션형 크림형 패치형  \n",
       "0      0   0   0  0    0   0   0   0  \n",
       "\n",
       "[1 rows x 75 columns]"
      ]
     },
     "execution_count": 11,
     "metadata": {},
     "output_type": "execute_result"
    }
   ],
   "source": [
    "for u in user:\n",
    "    tmp = u\n",
    "    test_df[tmp] += 1\n",
    "    \n",
    "test_df"
   ]
  },
  {
   "cell_type": "code",
   "execution_count": 13,
   "id": "c43ba8b7",
   "metadata": {},
   "outputs": [],
   "source": [
    "pred = model.predict(test_df)"
   ]
  },
  {
   "cell_type": "code",
   "execution_count": 17,
   "id": "645f8189",
   "metadata": {},
   "outputs": [
    {
     "data": {
      "text/plain": [
       "'[클리어런스][공식홈] 텐제로 시카 카밍 앰플 55g'"
      ]
     },
     "execution_count": 17,
     "metadata": {},
     "output_type": "execute_result"
    }
   ],
   "source": [
    "pred[0]"
   ]
  },
  {
   "cell_type": "code",
   "execution_count": 56,
   "id": "8038b5b1",
   "metadata": {},
   "outputs": [
    {
     "data": {
      "text/plain": [
       "3619    https://shopping.naver.com/beauty/stores/10122...\n",
       "3629    https://shopping.naver.com/beauty/stores/10122...\n",
       "Name: url, dtype: object"
      ]
     },
     "execution_count": 56,
     "metadata": {},
     "output_type": "execute_result"
    }
   ],
   "source": [
    "df_url['url'][df_url['상품명'] == pred[0]]"
   ]
  },
  {
   "cell_type": "code",
   "execution_count": null,
   "id": "9fd9f134",
   "metadata": {},
   "outputs": [],
   "source": []
  }
 ],
 "metadata": {
  "kernelspec": {
   "display_name": "Python 3",
   "language": "python",
   "name": "python3"
  },
  "language_info": {
   "codemirror_mode": {
    "name": "ipython",
    "version": 3
   },
   "file_extension": ".py",
   "mimetype": "text/x-python",
   "name": "python",
   "nbconvert_exporter": "python",
   "pygments_lexer": "ipython3",
   "version": "3.9.13 (tags/v3.9.13:6de2ca5, May 17 2022, 16:36:42) [MSC v.1929 64 bit (AMD64)]"
  },
  "vscode": {
   "interpreter": {
    "hash": "cf92aa13fedf815d5c8dd192b8d835913fde3e8bc926b2a0ad6cc74ef2ba3ca2"
   }
  }
 },
 "nbformat": 4,
 "nbformat_minor": 5
}
