{
 "cells": [
  {
   "cell_type": "code",
   "execution_count": 1,
   "id": "c32b568f",
   "metadata": {},
   "outputs": [],
   "source": [
    "import numpy as np\n",
    "import pandas as pd\n",
    "\n",
    "# Preprocessing\n",
    "from sklearn.model_selection import train_test_split\n",
    "\n",
    "# Model\n",
    "from sklearn.tree import DecisionTreeClassifier"
   ]
  },
  {
   "cell_type": "code",
   "execution_count": 2,
   "id": "c5ec1a67",
   "metadata": {},
   "outputs": [],
   "source": [
    "df = pd.read_csv(\"naver.csv\")\n",
    "df.drop(['Unnamed: 0'], axis=1, inplace=True)"
   ]
  },
  {
   "cell_type": "code",
   "execution_count": 3,
   "id": "1354d83e",
   "metadata": {},
   "outputs": [
    {
     "data": {
      "text/html": [
       "<div>\n",
       "<style scoped>\n",
       "    .dataframe tbody tr th:only-of-type {\n",
       "        vertical-align: middle;\n",
       "    }\n",
       "\n",
       "    .dataframe tbody tr th {\n",
       "        vertical-align: top;\n",
       "    }\n",
       "\n",
       "    .dataframe thead th {\n",
       "        text-align: right;\n",
       "    }\n",
       "</style>\n",
       "<table border=\"1\" class=\"dataframe\">\n",
       "  <thead>\n",
       "    <tr style=\"text-align: right;\">\n",
       "      <th></th>\n",
       "      <th>index_in_train</th>\n",
       "      <th>column_name</th>\n",
       "      <th>NAN_number</th>\n",
       "    </tr>\n",
       "  </thead>\n",
       "  <tbody>\n",
       "    <tr>\n",
       "      <th>0</th>\n",
       "      <td>4</td>\n",
       "      <td>브랜드</td>\n",
       "      <td>190</td>\n",
       "    </tr>\n",
       "    <tr>\n",
       "      <th>1</th>\n",
       "      <td>6</td>\n",
       "      <td>세부제품특징</td>\n",
       "      <td>732</td>\n",
       "    </tr>\n",
       "    <tr>\n",
       "      <th>2</th>\n",
       "      <td>7</td>\n",
       "      <td>사용부위</td>\n",
       "      <td>1776</td>\n",
       "    </tr>\n",
       "    <tr>\n",
       "      <th>3</th>\n",
       "      <td>8</td>\n",
       "      <td>사용시간</td>\n",
       "      <td>2987</td>\n",
       "    </tr>\n",
       "    <tr>\n",
       "      <th>4</th>\n",
       "      <td>9</td>\n",
       "      <td>제품형태</td>\n",
       "      <td>2660</td>\n",
       "    </tr>\n",
       "    <tr>\n",
       "      <th>5</th>\n",
       "      <td>10</td>\n",
       "      <td>용량</td>\n",
       "      <td>2511</td>\n",
       "    </tr>\n",
       "    <tr>\n",
       "      <th>6</th>\n",
       "      <td>11</td>\n",
       "      <td>용기형태</td>\n",
       "      <td>3903</td>\n",
       "    </tr>\n",
       "    <tr>\n",
       "      <th>7</th>\n",
       "      <td>12</td>\n",
       "      <td>피부타입</td>\n",
       "      <td>1718</td>\n",
       "    </tr>\n",
       "    <tr>\n",
       "      <th>8</th>\n",
       "      <td>13</td>\n",
       "      <td>주요제품특징</td>\n",
       "      <td>36</td>\n",
       "    </tr>\n",
       "    <tr>\n",
       "      <th>9</th>\n",
       "      <td>14</td>\n",
       "      <td>모델명</td>\n",
       "      <td>1636</td>\n",
       "    </tr>\n",
       "    <tr>\n",
       "      <th>10</th>\n",
       "      <td>15</td>\n",
       "      <td>제조사</td>\n",
       "      <td>725</td>\n",
       "    </tr>\n",
       "    <tr>\n",
       "      <th>11</th>\n",
       "      <td>16</td>\n",
       "      <td>혜택조건</td>\n",
       "      <td>4371</td>\n",
       "    </tr>\n",
       "    <tr>\n",
       "      <th>12</th>\n",
       "      <td>17</td>\n",
       "      <td>세트수량</td>\n",
       "      <td>4854</td>\n",
       "    </tr>\n",
       "    <tr>\n",
       "      <th>13</th>\n",
       "      <td>18</td>\n",
       "      <td>반품안심케어 가입 안내</td>\n",
       "      <td>4921</td>\n",
       "    </tr>\n",
       "    <tr>\n",
       "      <th>14</th>\n",
       "      <td>19</td>\n",
       "      <td>이벤트</td>\n",
       "      <td>3952</td>\n",
       "    </tr>\n",
       "    <tr>\n",
       "      <th>15</th>\n",
       "      <td>20</td>\n",
       "      <td>제조일자</td>\n",
       "      <td>4598</td>\n",
       "    </tr>\n",
       "    <tr>\n",
       "      <th>16</th>\n",
       "      <td>21</td>\n",
       "      <td>유효일자</td>\n",
       "      <td>4524</td>\n",
       "    </tr>\n",
       "    <tr>\n",
       "      <th>17</th>\n",
       "      <td>22</td>\n",
       "      <td>기타</td>\n",
       "      <td>4935</td>\n",
       "    </tr>\n",
       "    <tr>\n",
       "      <th>18</th>\n",
       "      <td>23</td>\n",
       "      <td>사은품</td>\n",
       "      <td>4599</td>\n",
       "    </tr>\n",
       "    <tr>\n",
       "      <th>19</th>\n",
       "      <td>24</td>\n",
       "      <td>PA지수</td>\n",
       "      <td>4666</td>\n",
       "    </tr>\n",
       "    <tr>\n",
       "      <th>20</th>\n",
       "      <td>25</td>\n",
       "      <td>자외선차단지수</td>\n",
       "      <td>4660</td>\n",
       "    </tr>\n",
       "    <tr>\n",
       "      <th>21</th>\n",
       "      <td>26</td>\n",
       "      <td>성분</td>\n",
       "      <td>4970</td>\n",
       "    </tr>\n",
       "    <tr>\n",
       "      <th>22</th>\n",
       "      <td>27</td>\n",
       "      <td>종류</td>\n",
       "      <td>4956</td>\n",
       "    </tr>\n",
       "    <tr>\n",
       "      <th>23</th>\n",
       "      <td>28</td>\n",
       "      <td>세트구성</td>\n",
       "      <td>4996</td>\n",
       "    </tr>\n",
       "    <tr>\n",
       "      <th>24</th>\n",
       "      <td>29</td>\n",
       "      <td>매수</td>\n",
       "      <td>4952</td>\n",
       "    </tr>\n",
       "    <tr>\n",
       "      <th>25</th>\n",
       "      <td>30</td>\n",
       "      <td>구분</td>\n",
       "      <td>4974</td>\n",
       "    </tr>\n",
       "  </tbody>\n",
       "</table>\n",
       "</div>"
      ],
      "text/plain": [
       "    index_in_train   column_name  NAN_number\n",
       "0                4           브랜드         190\n",
       "1                6        세부제품특징         732\n",
       "2                7          사용부위        1776\n",
       "3                8          사용시간        2987\n",
       "4                9          제품형태        2660\n",
       "5               10            용량        2511\n",
       "6               11          용기형태        3903\n",
       "7               12          피부타입        1718\n",
       "8               13        주요제품특징          36\n",
       "9               14           모델명        1636\n",
       "10              15           제조사         725\n",
       "11              16          혜택조건        4371\n",
       "12              17          세트수량        4854\n",
       "13              18  반품안심케어 가입 안내        4921\n",
       "14              19           이벤트        3952\n",
       "15              20          제조일자        4598\n",
       "16              21          유효일자        4524\n",
       "17              22            기타        4935\n",
       "18              23           사은품        4599\n",
       "19              24          PA지수        4666\n",
       "20              25       자외선차단지수        4660\n",
       "21              26            성분        4970\n",
       "22              27            종류        4956\n",
       "23              28          세트구성        4996\n",
       "24              29            매수        4952\n",
       "25              30            구분        4974"
      ]
     },
     "metadata": {},
     "output_type": "display_data"
    }
   ],
   "source": [
    "train_nan = list(df.isna().sum())\n",
    "num_nan = list(filter(lambda x:x >= 1, train_nan))\n",
    "\n",
    "index_nan = list(filter(lambda e:train_nan[e] >= 1, range(len(train_nan))))\n",
    "\n",
    "nan_df = pd.DataFrame({'index_in_train' : index_nan, 'column_name' : df.iloc[:, index_nan].columns, 'NAN_number' : num_nan})\n",
    "display(nan_df)"
   ]
  },
  {
   "cell_type": "code",
   "execution_count": 5,
   "id": "0a0b43ee",
   "metadata": {},
   "outputs": [],
   "source": [
    "# Column Select\n",
    "train_columns = [\"상품명\", \"가격\", \"세부제품특징\", \n",
    "                 \"피부타입\", \"사용부위\", \"사용시간\", \"제품형태\"]\n",
    "df = df.loc[:, train_columns]"
   ]
  },
  {
   "cell_type": "markdown",
   "id": "31fd43c8",
   "metadata": {},
   "source": [
    "### NaN Preprocessing"
   ]
  },
  {
   "cell_type": "code",
   "execution_count": 6,
   "id": "9c2cb988",
   "metadata": {},
   "outputs": [],
   "source": [
    "# 유니크값 확인 함수\n",
    "def unique(column):\n",
    "    result = []\n",
    "    result2 = []\n",
    "    tmp = column.dropna()\n",
    "    \n",
    "    for i in tmp:\n",
    "        result += i.split(\",\")\n",
    "        \n",
    "    for j in result:\n",
    "        result2.append(j.replace(\" \", \"\"))\n",
    "        \n",
    "    result2 = set(result2)\n",
    "    result2 = list(result2)\n",
    "    result2.sort()\n",
    "    \n",
    "    return result2"
   ]
  },
  {
   "cell_type": "code",
   "execution_count": 7,
   "id": "a0d9c4b0",
   "metadata": {},
   "outputs": [],
   "source": [
    "# 가변수화 함수\n",
    "def dummy(column):\n",
    "    tmp = pd.DataFrame()\n",
    "    for i in unique(column):\n",
    "        x = []\n",
    "        for n in column.dropna():\n",
    "            if i in n:\n",
    "                x.append(1)\n",
    "            else:\n",
    "                x.append(0)\n",
    "        tmp = pd.concat([tmp, pd.DataFrame({ i : x })], axis = 1)\n",
    "    return tmp"
   ]
  },
  {
   "cell_type": "code",
   "execution_count": 8,
   "id": "cbc44636",
   "metadata": {},
   "outputs": [
    {
     "data": {
      "text/plain": [
       "상품명          0\n",
       "가격           0\n",
       "세부제품특징     732\n",
       "피부타입      1718\n",
       "사용부위      1776\n",
       "사용시간      2987\n",
       "제품형태      2660\n",
       "dtype: int64"
      ]
     },
     "execution_count": 8,
     "metadata": {},
     "output_type": "execute_result"
    }
   ],
   "source": [
    "# 결측치 처리\n",
    "df.isna().sum()"
   ]
  },
  {
   "cell_type": "code",
   "execution_count": 9,
   "id": "a3430897",
   "metadata": {},
   "outputs": [
    {
     "data": {
      "text/plain": [
       "['각질케어',\n",
       " '노폐물제거',\n",
       " '레포츠용',\n",
       " '메이크업베이스겸용',\n",
       " '모공케어',\n",
       " '미세먼지세정',\n",
       " '밀착력',\n",
       " '부드러운발림',\n",
       " '브라이트닝',\n",
       " '블랙헤드케어',\n",
       " '상쾌함',\n",
       " '안티에이징',\n",
       " '알콜프리',\n",
       " '약산성',\n",
       " '어린이겸용',\n",
       " '영양공급',\n",
       " '오일프리',\n",
       " '워터프루프세정',\n",
       " '유수분밸런스조절',\n",
       " '윤기부여',\n",
       " '자외선차단',\n",
       " '저자극',\n",
       " '주름케어',\n",
       " '지속력',\n",
       " '집중케어',\n",
       " '초미세먼지세정',\n",
       " '촉촉함(수분공급)',\n",
       " '쿨링감',\n",
       " '트러블케어',\n",
       " '편리한사용성',\n",
       " '피부강화',\n",
       " '피부결정돈',\n",
       " '피부보호',\n",
       " '피부유연',\n",
       " '피부진정',\n",
       " '피부탄력',\n",
       " '피부톤보정',\n",
       " '피부투명',\n",
       " '피지조절',\n",
       " '피지케어',\n",
       " '향',\n",
       " '화이트닝',\n",
       " '화이트헤드케어',\n",
       " '흡수력']"
      ]
     },
     "execution_count": 9,
     "metadata": {},
     "output_type": "execute_result"
    }
   ],
   "source": [
    "# 세부제품특징\n",
    "\n",
    "# parsing\n",
    "unique(df['세부제품특징'])"
   ]
  },
  {
   "cell_type": "code",
   "execution_count": 10,
   "id": "d59a77ab",
   "metadata": {},
   "outputs": [],
   "source": [
    "# 피부타입 : 모든피부용\n",
    "df['피부타입'] = df['피부타입'].fillna('모든피부용')"
   ]
  },
  {
   "cell_type": "code",
   "execution_count": 11,
   "id": "ba6ab1f0",
   "metadata": {},
   "outputs": [
    {
     "data": {
      "text/plain": [
       "['T존',\n",
       " 'U존',\n",
       " '겨드랑이',\n",
       " '넥',\n",
       " '립용',\n",
       " '바디용',\n",
       " '스팟',\n",
       " '아이용',\n",
       " '코',\n",
       " '팔',\n",
       " '팔자주름',\n",
       " '페이스용',\n",
       " '핸드용']"
      ]
     },
     "execution_count": 11,
     "metadata": {},
     "output_type": "execute_result"
    }
   ],
   "source": [
    "# 사용부위\n",
    "\n",
    "# parsing\n",
    "unique(df['사용부위'])"
   ]
  },
  {
   "cell_type": "code",
   "execution_count": 12,
   "id": "4e60013b",
   "metadata": {},
   "outputs": [],
   "source": [
    "# 사용시간\n",
    "\n",
    "df['사용시간'] = df['사용시간'].fillna('낮, 밤')"
   ]
  },
  {
   "cell_type": "code",
   "execution_count": 15,
   "id": "aecd79f0",
   "metadata": {},
   "outputs": [
    {
     "data": {
      "text/html": [
       "<div>\n",
       "<style scoped>\n",
       "    .dataframe tbody tr th:only-of-type {\n",
       "        vertical-align: middle;\n",
       "    }\n",
       "\n",
       "    .dataframe tbody tr th {\n",
       "        vertical-align: top;\n",
       "    }\n",
       "\n",
       "    .dataframe thead th {\n",
       "        text-align: right;\n",
       "    }\n",
       "</style>\n",
       "<table border=\"1\" class=\"dataframe\">\n",
       "  <thead>\n",
       "    <tr style=\"text-align: right;\">\n",
       "      <th></th>\n",
       "      <th>상품명</th>\n",
       "      <th>가격</th>\n",
       "      <th>세부제품특징</th>\n",
       "      <th>피부타입</th>\n",
       "      <th>사용부위</th>\n",
       "      <th>사용시간</th>\n",
       "      <th>제품형태</th>\n",
       "    </tr>\n",
       "  </thead>\n",
       "  <tbody>\n",
       "    <tr>\n",
       "      <th>0</th>\n",
       "      <td>[스킨푸드][당근2종키트증정] 캐롯 카로틴 카밍 워터 패드 30매 135g_당근패드</td>\n",
       "      <td>13,000</td>\n",
       "      <td>피부진정, 피부결정돈, 상쾌함</td>\n",
       "      <td>모든피부용</td>\n",
       "      <td>페이스용</td>\n",
       "      <td>낮, 밤</td>\n",
       "      <td>스크럽형</td>\n",
       "    </tr>\n",
       "    <tr>\n",
       "      <th>1</th>\n",
       "      <td>[스킨푸드][당근2종키트증정] 캐롯 카로틴 카밍 워터 패드 60매_당근패드</td>\n",
       "      <td>26,000</td>\n",
       "      <td>피부진정, 피부결정돈, 상쾌함</td>\n",
       "      <td>모든피부용</td>\n",
       "      <td>페이스용</td>\n",
       "      <td>낮, 밤</td>\n",
       "      <td>스크럽형</td>\n",
       "    </tr>\n",
       "    <tr>\n",
       "      <th>2</th>\n",
       "      <td>[1+1]바버 멀티 비타민 앰플 (2mlx7병)- 바버공식수입사</td>\n",
       "      <td>60,000</td>\n",
       "      <td>저자극, 피부강화, 각질케어, 피부탄력, 영양공급</td>\n",
       "      <td>모든피부용</td>\n",
       "      <td>페이스용</td>\n",
       "      <td>낮, 밤</td>\n",
       "      <td>액상형</td>\n",
       "    </tr>\n",
       "    <tr>\n",
       "      <th>3</th>\n",
       "      <td>데저트에센스 100% 냉압착 비정제 퓨어 호호바오일 118ml</td>\n",
       "      <td>27,700</td>\n",
       "      <td>저자극, 피부보호</td>\n",
       "      <td>모든피부용</td>\n",
       "      <td>페이스용</td>\n",
       "      <td>낮, 밤</td>\n",
       "      <td>오일형</td>\n",
       "    </tr>\n",
       "    <tr>\n",
       "      <th>4</th>\n",
       "      <td>벤튼 구아바 70 스킨 토너 패드 팩 (70매) 진정 수부지 비건 피부결</td>\n",
       "      <td>36,000</td>\n",
       "      <td>피부결정돈, 피부진정, 흡수력, 모공케어</td>\n",
       "      <td>모든피부용, 건성, 민감성</td>\n",
       "      <td>페이스용</td>\n",
       "      <td>낮, 밤</td>\n",
       "      <td>시트형</td>\n",
       "    </tr>\n",
       "    <tr>\n",
       "      <th>...</th>\n",
       "      <td>...</td>\n",
       "      <td>...</td>\n",
       "      <td>...</td>\n",
       "      <td>...</td>\n",
       "      <td>...</td>\n",
       "      <td>...</td>\n",
       "      <td>...</td>\n",
       "    </tr>\n",
       "    <tr>\n",
       "      <th>1802</th>\n",
       "      <td>로우퀘스트 에키네시아 클렌징 폼 150ml / 폼클렌징 저자극 각질제거</td>\n",
       "      <td>25,000</td>\n",
       "      <td>노폐물 제거, 각질케어, 모공케어, 피지케어</td>\n",
       "      <td>민감성, 모든피부용, 지복합</td>\n",
       "      <td>페이스용</td>\n",
       "      <td>낮, 밤</td>\n",
       "      <td>젤형</td>\n",
       "    </tr>\n",
       "    <tr>\n",
       "      <th>1803</th>\n",
       "      <td>동국제약 센텔리안24 더 마데카크림 45ml (시즌6) / 병풀추출물 보습 탄력 안...</td>\n",
       "      <td>33,000</td>\n",
       "      <td>피부탄력, 영양공급, 피부진정, 안티에이징</td>\n",
       "      <td>모든피부용</td>\n",
       "      <td>페이스용</td>\n",
       "      <td>낮, 밤</td>\n",
       "      <td>크림형</td>\n",
       "    </tr>\n",
       "    <tr>\n",
       "      <th>1804</th>\n",
       "      <td>[💘1+1💘알림받기 즉시할인]스와니코코 EGF/FGF 1ppm 40ml/ 피부 치밀...</td>\n",
       "      <td>68,000</td>\n",
       "      <td>저자극, 피부탄력, 영양공급, 안티에이징, 피부강화</td>\n",
       "      <td>모든피부용, 지복합, 복합</td>\n",
       "      <td>페이스용, 팔자주름</td>\n",
       "      <td>낮, 밤</td>\n",
       "      <td>액상형</td>\n",
       "    </tr>\n",
       "    <tr>\n",
       "      <th>1805</th>\n",
       "      <td>믹순 병풀 스틱밤 11.5ml</td>\n",
       "      <td>35,000</td>\n",
       "      <td>피부탄력, 피부진정</td>\n",
       "      <td>모든피부용</td>\n",
       "      <td>페이스용</td>\n",
       "      <td>낮, 밤</td>\n",
       "      <td>밤형</td>\n",
       "    </tr>\n",
       "    <tr>\n",
       "      <th>1806</th>\n",
       "      <td>라네즈 래디언씨 비타민 스팟 앰플 10g</td>\n",
       "      <td>32,000</td>\n",
       "      <td>저자극, 피부강화, 영양공급, 피부투명</td>\n",
       "      <td>모든피부용</td>\n",
       "      <td>페이스용</td>\n",
       "      <td>밤</td>\n",
       "      <td>액상형</td>\n",
       "    </tr>\n",
       "  </tbody>\n",
       "</table>\n",
       "<p>1807 rows × 7 columns</p>\n",
       "</div>"
      ],
      "text/plain": [
       "                                                    상품명      가격  \\\n",
       "0        [스킨푸드][당근2종키트증정] 캐롯 카로틴 카밍 워터 패드 30매 135g_당근패드  13,000   \n",
       "1             [스킨푸드][당근2종키트증정] 캐롯 카로틴 카밍 워터 패드 60매_당근패드  26,000   \n",
       "2                   [1+1]바버 멀티 비타민 앰플 (2mlx7병)- 바버공식수입사  60,000   \n",
       "3                    데저트에센스 100% 냉압착 비정제 퓨어 호호바오일 118ml  27,700   \n",
       "4              벤튼 구아바 70 스킨 토너 패드 팩 (70매) 진정 수부지 비건 피부결  36,000   \n",
       "...                                                 ...     ...   \n",
       "1802            로우퀘스트 에키네시아 클렌징 폼 150ml / 폼클렌징 저자극 각질제거  25,000   \n",
       "1803  동국제약 센텔리안24 더 마데카크림 45ml (시즌6) / 병풀추출물 보습 탄력 안...  33,000   \n",
       "1804  [💘1+1💘알림받기 즉시할인]스와니코코 EGF/FGF 1ppm 40ml/ 피부 치밀...  68,000   \n",
       "1805                                   믹순 병풀 스틱밤 11.5ml  35,000   \n",
       "1806                             라네즈 래디언씨 비타민 스팟 앰플 10g  32,000   \n",
       "\n",
       "                            세부제품특징             피부타입        사용부위  사용시간  제품형태  \n",
       "0                 피부진정, 피부결정돈, 상쾌함            모든피부용        페이스용  낮, 밤  스크럽형  \n",
       "1                 피부진정, 피부결정돈, 상쾌함            모든피부용        페이스용  낮, 밤  스크럽형  \n",
       "2      저자극, 피부강화, 각질케어, 피부탄력, 영양공급            모든피부용        페이스용  낮, 밤   액상형  \n",
       "3                        저자극, 피부보호            모든피부용        페이스용  낮, 밤   오일형  \n",
       "4           피부결정돈, 피부진정, 흡수력, 모공케어   모든피부용, 건성, 민감성        페이스용  낮, 밤   시트형  \n",
       "...                            ...              ...         ...   ...   ...  \n",
       "1802      노폐물 제거, 각질케어, 모공케어, 피지케어  민감성, 모든피부용, 지복합        페이스용  낮, 밤    젤형  \n",
       "1803       피부탄력, 영양공급, 피부진정, 안티에이징            모든피부용        페이스용  낮, 밤   크림형  \n",
       "1804  저자극, 피부탄력, 영양공급, 안티에이징, 피부강화   모든피부용, 지복합, 복합  페이스용, 팔자주름  낮, 밤   액상형  \n",
       "1805                    피부탄력, 피부진정            모든피부용        페이스용  낮, 밤    밤형  \n",
       "1806         저자극, 피부강화, 영양공급, 피부투명            모든피부용        페이스용     밤   액상형  \n",
       "\n",
       "[1807 rows x 7 columns]"
      ]
     },
     "execution_count": 15,
     "metadata": {},
     "output_type": "execute_result"
    }
   ],
   "source": [
    "# drop na\n",
    "df = df.dropna()\n",
    "df = df.reset_index(drop=True)\n",
    "df"
   ]
  },
  {
   "cell_type": "markdown",
   "id": "b64ebc14",
   "metadata": {},
   "source": [
    "### Column Preprocess"
   ]
  },
  {
   "cell_type": "code",
   "execution_count": null,
   "id": "099e7ced",
   "metadata": {},
   "outputs": [],
   "source": [
    "# 가격\n",
    "df['가격'] = df['가격'].str.replace(',', '')\n",
    "df['가격'] = df['가격'].astype(int)\n",
    "\n",
    "# 세부제품특징\n",
    "tmp = dummy(df['세부제품특징'])\n",
    "df = pd.concat([df, tmp], axis = 1)\n",
    "df.drop(['세부제품특징'], axis=1, inplace=True)\n",
    "\n",
    "# 피부타입\n",
    "tmp = dummy(df['피부타입'])\n",
    "df = pd.concat([df, tmp], axis = 1)\n",
    "df.drop(['피부타입'], axis=1, inplace=True)\n",
    "\n",
    "# 사용부위\n",
    "tmp = dummy(df['사용부위'])\n",
    "df = pd.concat([df, tmp], axis = 1)\n",
    "df.drop(['사용부위'], axis=1, inplace=True)\n",
    "\n",
    "# 사용시간\n",
    "df['사용시간'] = df['사용시간'].str.replace('낮, 밤', '0')\n",
    "df['사용시간'] = df['사용시간'].str.replace('밤, 낮', '0')\n",
    "df['사용시간'] = df['사용시간'].str.replace('낮', '1')\n",
    "df['사용시간'] = df['사용시간'].str.replace('밤', '2')\n",
    "df['사용시간'] = df['사용시간'].astype('int')\n",
    "\n",
    "# 제품형태\n",
    "tmp = dummy(df['제품형태'])\n",
    "df = pd.concat([df, tmp], axis = 1)\n",
    "df.drop(['제품형태'], axis=1, inplace=True)"
   ]
  },
  {
   "cell_type": "code",
   "execution_count": 63,
   "id": "70c9bf26",
   "metadata": {},
   "outputs": [
    {
     "data": {
      "text/plain": [
       "Index(['상품명', '가격', '사용시간', '각질케어', '노폐물제거', '레포츠용', '메이크업베이스겸용', '모공케어',\n",
       "       '밀착력', '부드러운발림', '브라이트닝', '블랙헤드케어', '상쾌함', '안티에이징', '알콜프리', '약산성',\n",
       "       '어린이겸용', '영양공급', '오일프리', '유수분밸런스조절', '윤기부여', '저자극', '주름케어', '지속력',\n",
       "       '초미세먼지세정', '촉촉함(수분공급)', '쿨링감', '트러블케어', '피부강화', '피부결정돈', '피부보호', '피부유연',\n",
       "       '피부진정', '피부탄력', '피부톤보정', '피부투명', '피지조절', '피지케어', '향', '화이트닝', '화이트헤드케어',\n",
       "       '흡수력', '건성', '모든피부용', '민감성', '복합', '중건성', '지복합', '지성', 'T존', 'U존', '넥',\n",
       "       '바디용', '스팟', '아이용', '코', '팔자주름', '페이스용', '핸드용', '가루형', '거품형', '로션형',\n",
       "       '리필형', '무스형', '밤형', '버터형', '스크럽형', '시트형', '압축/팩트형', '액상형', '오일형', '젤형',\n",
       "       '캡슐/정', '쿠션형', '크림형', '패치형'],\n",
       "      dtype='object')"
      ]
     },
     "execution_count": 63,
     "metadata": {},
     "output_type": "execute_result"
    }
   ],
   "source": [
    "df.columns"
   ]
  },
  {
   "cell_type": "markdown",
   "id": "1f08b978",
   "metadata": {},
   "source": [
    "### Modeling"
   ]
  },
  {
   "cell_type": "code",
   "execution_count": 26,
   "id": "c531d471",
   "metadata": {},
   "outputs": [],
   "source": [
    "# x, y split\n",
    "target = '상품명'\n",
    "x = df.drop(target, axis = 1)\n",
    "y = df.loc[:, target]\n",
    "\n",
    "# train, valid split\n",
    "x_train, x_valid, y_train, y_valid = train_test_split(x, y, test_size=0.3, random_state=2022)"
   ]
  },
  {
   "cell_type": "code",
   "execution_count": 27,
   "id": "006da94e",
   "metadata": {},
   "outputs": [
    {
     "data": {
      "text/plain": [
       "DecisionTreeClassifier()"
      ]
     },
     "execution_count": 27,
     "metadata": {},
     "output_type": "execute_result"
    }
   ],
   "source": [
    "dt = DecisionTreeClassifier()\n",
    "dt.fit(x_train, y_train)"
   ]
  },
  {
   "cell_type": "code",
   "execution_count": 65,
   "id": "c26b2f38",
   "metadata": {},
   "outputs": [
    {
     "data": {
      "text/plain": [
       "['recsys_dt.pkl']"
      ]
     },
     "execution_count": 65,
     "metadata": {},
     "output_type": "execute_result"
    }
   ],
   "source": [
    "import joblib\n",
    "\n",
    "joblib.dump(dt, 'recsys_dt.pkl')"
   ]
  },
  {
   "cell_type": "code",
   "execution_count": 28,
   "id": "9edc576b",
   "metadata": {},
   "outputs": [],
   "source": [
    "pred = dt.predict(x_valid)"
   ]
  },
  {
   "cell_type": "code",
   "execution_count": 29,
   "id": "f454c222",
   "metadata": {},
   "outputs": [
    {
     "data": {
      "text/plain": [
       "array(['[공식몰][2+1] 아누아 어성초 77 클리어 패드 70매',\n",
       "       '[네이처리퍼블릭] 그린더마 티트리 시카 빅토너 500ml', '라비앙 레디언스 바이오 셀룰로오스 마스크 팩 5EA',\n",
       "       '메디힐 콜라겐 채움 패드 100매', '아미퓨어 머랭 버블 클렌저 500ml',\n",
       "       '파이콜로지 씨위드 버블 클레이 마스크 -모공, 각질, 피부결 5g10매 워시오프 뷰라벨',\n",
       "       '[클리어런스] 잇츠스킨 타이거 시카 그린 칠 다운 카밍 수딩 패드 100ea(150g)',\n",
       "       '발효보습 어바웃미 쌀 막걸리 스킨 170ml',\n",
       "       '유세린 아쿠아포린 수분크림 액티브 포 드라이스킨 50ml (건성용)',\n",
       "       '아벤느 시칼파트 플러스 SOS 크림 100ml 1+1'], dtype=object)"
      ]
     },
     "execution_count": 29,
     "metadata": {},
     "output_type": "execute_result"
    }
   ],
   "source": [
    "pred[0:10]"
   ]
  },
  {
   "cell_type": "code",
   "execution_count": 30,
   "id": "041d5509",
   "metadata": {},
   "outputs": [
    {
     "data": {
      "text/plain": [
       "344                     [공식몰][2+1] 아누아 어성초 77 클리어 패드 70매\n",
       "418                      [네이처리퍼블릭] 그린더마 티트리 시카 빅토너 500ml\n",
       "652                         라비앙 레디언스 바이오 셀룰로오스 마스크 팩 5EA\n",
       "545                                   메디힐 콜라겐 채움 패드 100매\n",
       "1084                                아미퓨어 머랭 버블 클렌저 500ml\n",
       "292         셀리맥스 시카 바하  지우개 폼 클렌징 150ml / 여드름성 피부 완화 기능성\n",
       "1554    [클리어런스] 잇츠스킨 타이거 시카 그린 칠 다운 카밍 수딩 패드 100ea(150g)\n",
       "1063                            [유리아쥬] 제모스 토너 250ml+GIFT\n",
       "1369               유세린 아쿠아포린 수분크림 액티브 포 드라이스킨 50ml (건성용)\n",
       "1503                       아벤느 시칼파트 플러스 SOS 크림 100ml 1+1\n",
       "Name: 상품명, dtype: object"
      ]
     },
     "execution_count": 30,
     "metadata": {},
     "output_type": "execute_result"
    }
   ],
   "source": [
    "y_valid[0:10]"
   ]
  },
  {
   "cell_type": "code",
   "execution_count": null,
   "id": "6b312f90",
   "metadata": {},
   "outputs": [],
   "source": []
  }
 ],
 "metadata": {
  "kernelspec": {
   "display_name": "Python 3",
   "language": "python",
   "name": "python3"
  },
  "language_info": {
   "codemirror_mode": {
    "name": "ipython",
    "version": 3
   },
   "file_extension": ".py",
   "mimetype": "text/x-python",
   "name": "python",
   "nbconvert_exporter": "python",
   "pygments_lexer": "ipython3",
   "version": "3.9.13 (tags/v3.9.13:6de2ca5, May 17 2022, 16:36:42) [MSC v.1929 64 bit (AMD64)]"
  },
  "vscode": {
   "interpreter": {
    "hash": "cf92aa13fedf815d5c8dd192b8d835913fde3e8bc926b2a0ad6cc74ef2ba3ca2"
   }
  }
 },
 "nbformat": 4,
 "nbformat_minor": 5
}
