{
 "cells": [
  {
   "cell_type": "code",
   "execution_count": 2,
   "metadata": {},
   "outputs": [],
   "source": [
    "import cv2\n",
    "import datetime\n",
    "import pandas as pd\n",
    "import numpy as np\n",
    "import dlib\n",
    "import os\n",
    "from matplotlib import pyplot as plt\n",
    "import skvideo.io\n",
    "import matplotlib as mpl\n",
    "import time"
   ]
  },
  {
   "cell_type": "code",
   "execution_count": 3,
   "metadata": {},
   "outputs": [],
   "source": [
    "def createFolder(directory):\n",
    "    try:\n",
    "        if not os.path.exists(directory):\n",
    "            os.makedirs(directory)\n",
    "    except OSError:\n",
    "        print ('Error: Creating directory. ' +  directory)"
   ]
  },
  {
   "cell_type": "code",
   "execution_count": 4,
   "metadata": {},
   "outputs": [],
   "source": [
    "## face detector와 landmark predictor 정의\n",
    "detector = dlib.get_frontal_face_detector()\n",
    "predictor = dlib.shape_predictor(\"shape_predictor_68_face_landmarks.dat\")\n",
    "num = int(input('운동 횟수를 입력해주세요'))"
   ]
  },
  {
   "cell_type": "code",
   "execution_count": 6,
   "metadata": {},
   "outputs": [
    {
     "name": "stdout",
     "output_type": "stream",
     "text": [
      "finish\n",
      "finish\n",
      "finish\n",
      "finish\n"
     ]
    }
   ],
   "source": [
    "webcam = cv2.VideoCapture(0)\n",
    "\n",
    "if not webcam.isOpened():\n",
    "    print(\"Could not open webcam\")\n",
    "    exit()\n",
    "\n",
    "sample_num = 0\n",
    "count = 0\n",
    "\n",
    "while webcam.isOpened():\n",
    "    status, frame = webcam.read()\n",
    "\n",
    "    if status:\n",
    "        cv2.imshow(\"test\", frame)\n",
    "\n",
    "    # q를 누르면 종료\n",
    "    key = cv2.waitKey(1)\n",
    "    if key & 0xFF == ord('q'):\n",
    "        break\n",
    "\n",
    "    # 자동으로 캡쳐\n",
    "    sample_num = sample_num + 1\n",
    "\n",
    "    if sample_num == 10:\n",
    "    #if key & 0xFF == ord('s'):\n",
    "\n",
    "        for i2 in range(num):\n",
    "            count = 0\n",
    "            df_x = pd.DataFrame()\n",
    "            df_y = pd.DataFrame()\n",
    "\n",
    "\n",
    "            # cv2 이미지처리\n",
    "            img = cv2.cvtColor(frame, cv2.COLOR_RGB2BGR)\n",
    "\n",
    "            # resize\n",
    "            r = 400. / img.shape[1]\n",
    "            dim = (400, int(img.shape[0] * r))\n",
    "            resized = cv2.resize(img, dim, interpolation=cv2.INTER_AREA)\n",
    "\n",
    "            # 얼굴 detection\n",
    "            rects = detector(resized, 1)\n",
    "            \n",
    "            for i, rect in enumerate(rects):\n",
    "                # 찾은 얼굴의 박스좌표\n",
    "                l = rect.left()\n",
    "                t = rect.top()\n",
    "                b = rect.bottom()\n",
    "                r = rect.right()\n",
    "\n",
    "                # facial landmark 찾기\n",
    "                shape = predictor(resized, rect)\n",
    "                # facial landmakr를 빨간색 점으로 찍어서 표현\n",
    "                x_list = []\n",
    "                y_list = []\n",
    "                for j in range(68):\n",
    "                    x, y = shape.part(j).x, shape.part(j).y\n",
    "                    cv2.circle(resized, (x, y), 1, (0, 0, 255), -1)\n",
    "                    x_list.append(x)\n",
    "                    y_list.append(y)\n",
    "                    cv2.rectangle(resized, (l, t), (r, b), (0, 255, 0), 2)\n",
    "                    result = cv2.putText(resized, str(j), (x, y), cv2.FONT_HERSHEY_SCRIPT_SIMPLEX, 0.3, (0, 255, 0))\n",
    "                # 얼굴이 있는 부분을 박스\n",
    "                count += 1\n",
    "                df_x['face' + str(count)] = x_list\n",
    "                df_y['face' + str(count)] = y_list\n",
    "\n",
    "                createFolder('test_' + str(i2))\n",
    "                df_x.to_csv('test_' + str(i2) + '\\\\test_dfx.csv')\n",
    "                df_y.to_csv('test_' + str(i2) + '\\\\test_dfy.csv')\n",
    "\n",
    "                # 이미지 저장할 경로 입력\n",
    "                file = 'test_' + str(i2) + '\\\\' + datetime.datetime.now().strftime(\"%Y%m%d_%H%M%S%f\") + '.jpg'\n",
    "                cv2.imwrite(file, result)\n",
    "\n",
    "            #print(file, ' saved') # 사진 저장\n",
    "            #print('df_saved', str(i2)) # 데이터 프레임 저장\n",
    "            del df_x\n",
    "            del df_y\n",
    "\n",
    "        print('finish') # 모두 저장\n",
    "        sample_num = 0\n",
    "\n",
    "webcam.release()\n",
    "cv2.destroyAllWindows()"
   ]
  },
  {
   "cell_type": "code",
   "execution_count": 8,
   "metadata": {},
   "outputs": [
    {
     "data": {
      "text/html": [
       "<div>\n",
       "<style scoped>\n",
       "    .dataframe tbody tr th:only-of-type {\n",
       "        vertical-align: middle;\n",
       "    }\n",
       "\n",
       "    .dataframe tbody tr th {\n",
       "        vertical-align: top;\n",
       "    }\n",
       "\n",
       "    .dataframe thead th {\n",
       "        text-align: right;\n",
       "    }\n",
       "</style>\n",
       "<table border=\"1\" class=\"dataframe\">\n",
       "  <thead>\n",
       "    <tr style=\"text-align: right;\">\n",
       "      <th></th>\n",
       "    </tr>\n",
       "  </thead>\n",
       "  <tbody>\n",
       "  </tbody>\n",
       "</table>\n",
       "</div>"
      ],
      "text/plain": [
       "Empty DataFrame\n",
       "Columns: []\n",
       "Index: []"
      ]
     },
     "metadata": {},
     "output_type": "display_data"
    }
   ],
   "source": [
    "display(df)"
   ]
  },
  {
   "cell_type": "code",
   "execution_count": null,
   "metadata": {},
   "outputs": [],
   "source": []
  }
 ],
 "metadata": {
  "kernelspec": {
   "display_name": "Python 3.9.13 64-bit",
   "language": "python",
   "name": "python3"
  },
  "language_info": {
   "codemirror_mode": {
    "name": "ipython",
    "version": 3
   },
   "file_extension": ".py",
   "mimetype": "text/x-python",
   "name": "python",
   "nbconvert_exporter": "python",
   "pygments_lexer": "ipython3",
   "version": "3.9.13"
  },
  "orig_nbformat": 4,
  "vscode": {
   "interpreter": {
    "hash": "cf92aa13fedf815d5c8dd192b8d835913fde3e8bc926b2a0ad6cc74ef2ba3ca2"
   }
  }
 },
 "nbformat": 4,
 "nbformat_minor": 2
}
